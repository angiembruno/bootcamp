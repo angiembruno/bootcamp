{
 "cells": [
  {
   "cell_type": "code",
   "execution_count": 1,
   "metadata": {},
   "outputs": [
    {
     "name": "stdout",
     "output_type": "stream",
     "text": [
      "C:\\Users\\angela.bruno\\Documents\\Bootcamp\\git\n"
     ]
    }
   ],
   "source": [
    "cd git"
   ]
  },
  {
   "cell_type": "code",
   "execution_count": null,
   "metadata": {},
   "outputs": [],
   "source": [
    "import numpy as np\n",
    "import pandas as pd\n",
    "\n",
    "import skimage\n",
    "import skimage.io\n",
    "\n",
    "# Use IPython widgets for interacting\n",
    "import ipywidgets\n",
    "\n",
    "# Import Bokeh modules for interactive plotting\n",
    "import bkcharts\n",
    "import bokeh.io\n",
    "import bokeh.models\n",
    "import bokeh.palettes\n",
    "import bokeh.plotting\n",
    "\n",
    "# Package to convert SVG to PDF\n",
    "#import cairosvg\n",
    "\n",
    "# I like the default Matplotlib palette\n",
    "colors = ['#1f77b4', '#ff7f0e', '#2ca02c', '#d62728',\n",
    "          '#9467bd', '#8c564b', '#e377c2', '#7f7f7f',\n",
    "          '#bcbd22', '#17becf']\n",
    "\n",
    "# Display graphics in this notebook\n",
    "bokeh.io.output_notebook()"
   ]
  },
  {
   "cell_type": "code",
   "execution_count": null,
   "metadata": {},
   "outputs": [],
   "source": [
    "bokeh.__version__"
   ]
  },
  {
   "cell_type": "code",
   "execution_count": null,
   "metadata": {
    "collapsed": true
   },
   "outputs": [],
   "source": [
    "df = pd.read_csv('bootcamp/data/grant_complete.csv')\n",
    "\n",
    "df87 = df.loc[df['year']==1987,:]"
   ]
  },
  {
   "cell_type": "code",
   "execution_count": null,
   "metadata": {},
   "outputs": [],
   "source": [
    "df\n"
   ]
  },
  {
   "cell_type": "code",
   "execution_count": null,
   "metadata": {},
   "outputs": [],
   "source": [
    "df.head()"
   ]
  },
  {
   "cell_type": "code",
   "execution_count": null,
   "metadata": {},
   "outputs": [],
   "source": [
    "tooltips = [('band', '@band')]\n",
    "\n",
    "p = bkcharts.Scatter(df87, x='beak length (mm)', y='beak depth (mm)',\n",
    "                     color='species', width=600, height=400)\n",
    "bokeh.io.show(p)"
   ]
  },
  {
   "cell_type": "code",
   "execution_count": null,
   "metadata": {},
   "outputs": [],
   "source": [
    "p = bkcharts.Scatter(df.loc[df['year']==1987, :], x='beak length (mm)', y='beak depth (mm)',\n",
    "                     color='species', palette=colors, width=600, height=400)\n",
    "bokeh.io.show(p)\n"
   ]
  },
  {
   "cell_type": "code",
   "execution_count": null,
   "metadata": {
    "collapsed": true
   },
   "outputs": [],
   "source": [
    "# Build figure\n",
    "p = bokeh.plotting.figure(height=400, width=600, x_axis_label='beak length (mm)',\n",
    "                         y_axis_label='beak depth (mm)')\n",
    "\n",
    "# Set up hover tool\n",
    "hover = bokeh.models.HoverTool(tooltips=[('band', '@band'), \n",
    "                                         ('length', '@{beak length (mm)}{0.2f}'),\n",
    "                                         ('depth', '@{beak depth (mm)}{0.2f}')])\n",
    "\n",
    "# Add the tool to the figure\n",
    "p.add_tools(hover)"
   ]
  },
  {
   "cell_type": "code",
   "execution_count": null,
   "metadata": {
    "collapsed": true
   },
   "outputs": [],
   "source": [
    "# For convenience, the indices we want for the species\n",
    "inds_f = (df['year']==1987) & (df['species']=='fortis')\n",
    "inds_s = (df['year']==1987) & (df['species']=='scandens')"
   ]
  },
  {
   "cell_type": "code",
   "execution_count": null,
   "metadata": {},
   "outputs": [],
   "source": [
    "# Paint the glyphs\n",
    "p.circle('beak length (mm)', 'beak depth (mm)', source=df.loc[inds_f, :], color=colors[0], \n",
    "         alpha=0.25)\n",
    "p.circle('beak length (mm)', 'beak depth (mm)', source=df.loc[inds_s, :], color=colors[1],\n",
    "         alpha=0.25)\n",
    "\n",
    "bokeh.io.show(p)"
   ]
  },
  {
   "cell_type": "code",
   "execution_count": null,
   "metadata": {},
   "outputs": [],
   "source": [
    "# Paint the glyphs\n",
    "p.square('beak length (mm)', 'beak depth (mm)', source=df.loc[inds_f, :], color=colors[0], \n",
    "         alpha=0.25)\n",
    "p.circle('beak length (mm)', 'beak depth (mm)', source=df.loc[inds_s, :], color=colors[1],\n",
    "         alpha=0.25)\n",
    "\n",
    "bokeh.io.show(p)"
   ]
  },
  {
   "cell_type": "code",
   "execution_count": 18,
   "metadata": {},
   "outputs": [
    {
     "ename": "TypeError",
     "evalue": "arc() missing 3 required positional arguments: 'radius', 'start_angle', and 'end_angle'",
     "output_type": "error",
     "traceback": [
      "\u001b[1;31m---------------------------------------------------------------------------\u001b[0m",
      "\u001b[1;31mTypeError\u001b[0m                                 Traceback (most recent call last)",
      "\u001b[1;32m<ipython-input-18-e50b470d6572>\u001b[0m in \u001b[0;36m<module>\u001b[1;34m()\u001b[0m\n\u001b[0;32m      1\u001b[0m \u001b[1;31m# Paint the glyphs\u001b[0m\u001b[1;33m\u001b[0m\u001b[1;33m\u001b[0m\u001b[0m\n\u001b[0;32m      2\u001b[0m p.arc('beak length (mm)', 'beak depth (mm)', source=df.loc[inds_f, :], color=colors[3], \n\u001b[1;32m----> 3\u001b[1;33m          alpha=0.25)\n\u001b[0m\u001b[0;32m      4\u001b[0m p.circle('beak length (mm)', 'beak depth (mm)', source=df.loc[inds_s, :], color=colors[1],\n\u001b[0;32m      5\u001b[0m          alpha=0.25)\n",
      "\u001b[1;31mTypeError\u001b[0m: arc() missing 3 required positional arguments: 'radius', 'start_angle', and 'end_angle'"
     ]
    }
   ],
   "source": [
    "# Paint the glyphs\n",
    "p.arc('beak length (mm)', 'beak depth (mm)', source=df.loc[inds_f, :], color=colors[3], \n",
    "         alpha=0.25)\n",
    "p.circle('beak length (mm)', 'beak depth (mm)', source=df.loc[inds_s, :], color=colors[1],\n",
    "         alpha=0.25)\n",
    "\n",
    "bokeh.io.show(p)"
   ]
  },
  {
   "cell_type": "code",
   "execution_count": 25,
   "metadata": {},
   "outputs": [
    {
     "ename": "SyntaxError",
     "evalue": "invalid syntax (<ipython-input-25-6f59d4bab3fd>, line 4)",
     "output_type": "error",
     "traceback": [
      "\u001b[1;36m  File \u001b[1;32m\"<ipython-input-25-6f59d4bab3fd>\"\u001b[1;36m, line \u001b[1;32m4\u001b[0m\n\u001b[1;33m    p.circle('beak length (mm)', 'beak depth (mm)', source=df.loc[inds_s, :], color=colors[8],\u001b[0m\n\u001b[1;37m    ^\u001b[0m\n\u001b[1;31mSyntaxError\u001b[0m\u001b[1;31m:\u001b[0m invalid syntax\n"
     ]
    }
   ],
   "source": [
    "# Paint the glyphs\n",
    "p.circle('beak length (mm)', 'beak depth (mm)', source=df.loc[inds_f, :], color=colors[3], \n",
    "         alpha=0.25, legend=('fortis')\n",
    "p.circle('beak length (mm)', 'beak depth (mm)', source=df.loc[inds_s, :], color=colors[8],\n",
    "         alpha=0.25, legend=('scandens')\n",
    "\n",
    "bokeh.io.show(p)"
   ]
  },
  {
   "cell_type": "code",
   "execution_count": 29,
   "metadata": {
    "collapsed": true
   },
   "outputs": [],
   "source": [
    "p.circle?"
   ]
  },
  {
   "cell_type": "code",
   "execution_count": null,
   "metadata": {
    "collapsed": true
   },
   "outputs": [],
   "source": []
  },
  {
   "cell_type": "code",
   "execution_count": 30,
   "metadata": {},
   "outputs": [
    {
     "data": {
      "text/plain": [
       "'C:\\\\Users\\\\angela.bruno\\\\Documents\\\\Bootcamp\\\\git\\\\beaks.html'"
      ]
     },
     "execution_count": 30,
     "metadata": {},
     "output_type": "execute_result"
    }
   ],
   "source": [
    "bokeh.io.output_file('beaks.html', title='daphne')\n",
    "bokeh.io.save(p)"
   ]
  },
  {
   "cell_type": "code",
   "execution_count": null,
   "metadata": {},
   "outputs": [],
   "source": [
    "p.output_backend = 'svg'\n",
    "\n",
    "bokeh.io.export_svgs(p, 'beaks87.svg')"
   ]
  },
  {
   "cell_type": "code",
   "execution_count": 32,
   "metadata": {
    "collapsed": true
   },
   "outputs": [],
   "source": [
    "import numpy as np\n"
   ]
  },
  {
   "cell_type": "code",
   "execution_count": 33,
   "metadata": {},
   "outputs": [
    {
     "data": {
      "text/plain": [
       "(3+5j)"
      ]
     },
     "execution_count": 33,
     "metadata": {},
     "output_type": "execute_result"
    }
   ],
   "source": [
    "complex(*(3, 5))"
   ]
  },
  {
   "cell_type": "code",
   "execution_count": null,
   "metadata": {
    "collapsed": true
   },
   "outputs": [],
   "source": []
  }
 ],
 "metadata": {
  "kernelspec": {
   "display_name": "Python 3",
   "language": "python",
   "name": "python3"
  },
  "language_info": {
   "codemirror_mode": {
    "name": "ipython",
    "version": 3
   },
   "file_extension": ".py",
   "mimetype": "text/x-python",
   "name": "python",
   "nbconvert_exporter": "python",
   "pygments_lexer": "ipython3",
   "version": "3.6.1"
  }
 },
 "nbformat": 4,
 "nbformat_minor": 2
}
